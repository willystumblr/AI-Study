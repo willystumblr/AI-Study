{
 "cells": [
  {
   "cell_type": "code",
   "execution_count": 1,
   "metadata": {},
   "outputs": [],
   "source": [
    "import torch"
   ]
  },
  {
   "cell_type": "code",
   "execution_count": 8,
   "metadata": {},
   "outputs": [
    {
     "name": "stdout",
     "output_type": "stream",
     "text": [
      "tensor([2., 2.])\n",
      "None None\n"
     ]
    }
   ],
   "source": [
    "x = torch.tensor(data=[2.0,3.0], requires_grad = True)\n",
    "\n",
    "y = x**2 \n",
    "z = 2*x + 3\n",
    "\n",
    "target = torch.tensor([3.0, 4.0])\n",
    "\n",
    "loss = torch.sum(torch.abs(z-target))\n",
    "loss.backward()\n",
    "\n",
    "print(x.grad)\n",
    "print(y.retain_grad(), z.retain_grad())"
   ]
  },
  {
   "cell_type": "code",
   "execution_count": 1,
   "metadata": {},
   "outputs": [],
   "source": [
    "import torch\n",
    "import torch.nn as nn #neural net. model / Linear function 사용\n",
    "import torch.optim as optim #grad descent \n",
    "import torch.nn.init as init #values required for initialization of tensor"
   ]
  },
  {
   "cell_type": "code",
   "execution_count": 2,
   "metadata": {},
   "outputs": [],
   "source": [
    "num_data = 100 #number of data used\n",
    "num_epoch = 500 #number of repitition of gradient descent\n",
    "\n",
    "x = init.uniform_(torch.Tensor(num_data, 1), -10, 10)\n",
    "noise = init.normal_(torch.FloatTensor(num_data, 1), std=1)\n",
    "y = 2*x+3\n",
    "y_noise = y + noise"
   ]
  },
  {
   "cell_type": "code",
   "execution_count": 3,
   "metadata": {},
   "outputs": [],
   "source": [
    "model = nn.Linear(1,1)\n",
    "cost_func = nn.L1Loss()"
   ]
  },
  {
   "cell_type": "code",
   "execution_count": 4,
   "metadata": {},
   "outputs": [],
   "source": [
    "optimizer = optim.SGD(model.parameters(), lr = 0.01)"
   ]
  },
  {
   "cell_type": "code",
   "execution_count": 7,
   "metadata": {},
   "outputs": [
    {
     "name": "stdout",
     "output_type": "stream",
     "text": [
      "tensor(0.8105)\n",
      "tensor(0.8099)\n",
      "tensor(0.8096)\n",
      "tensor(0.8093)\n",
      "tensor(0.8092)\n",
      "tensor(0.8091)\n",
      "tensor(0.8090)\n",
      "tensor(0.8091)\n",
      "tensor(0.8089)\n",
      "tensor(0.8090)\n",
      "tensor(0.8090)\n",
      "tensor(0.8089)\n",
      "tensor(0.8089)\n",
      "tensor(0.8089)\n",
      "tensor(0.8089)\n",
      "tensor(0.8088)\n",
      "tensor(0.8088)\n",
      "tensor(0.8088)\n",
      "tensor(0.8087)\n",
      "tensor(0.8088)\n",
      "tensor(0.8088)\n",
      "tensor(0.8087)\n",
      "tensor(0.8087)\n",
      "tensor(0.8088)\n",
      "tensor(0.8087)\n",
      "tensor(0.8087)\n",
      "tensor(0.8087)\n",
      "tensor(0.8086)\n",
      "tensor(0.8087)\n",
      "tensor(0.8087)\n",
      "tensor(0.8086)\n",
      "tensor(0.8086)\n",
      "tensor(0.8087)\n",
      "tensor(0.8086)\n",
      "tensor(0.8086)\n",
      "tensor(0.8086)\n",
      "tensor(0.8086)\n",
      "tensor(0.8086)\n",
      "tensor(0.8086)\n",
      "tensor(0.8085)\n",
      "tensor(0.8085)\n",
      "tensor(0.8086)\n",
      "tensor(0.8086)\n",
      "tensor(0.8085)\n",
      "tensor(0.8086)\n",
      "tensor(0.8086)\n",
      "tensor(0.8086)\n",
      "tensor(0.8086)\n",
      "tensor(0.8086)\n",
      "tensor(0.8087)\n",
      "1.9920347929000854 2.899386167526245\n"
     ]
    }
   ],
   "source": [
    "label = y_noise\n",
    "for i in range(num_epoch) :\n",
    "    optimizer.zero_grad()\n",
    "    output = model(x)\n",
    "    \n",
    "    loss = cost_func(output, label)\n",
    "    loss.backward()\n",
    "    optimizer.step()\n",
    "    \n",
    "    if i%10 == 0:\n",
    "        print(loss.data)\n",
    "\n",
    "param_list = list(model.parameters())\n",
    "print(param_list[0].item(), param_list[1].item())"
   ]
  },
  {
   "cell_type": "code",
   "execution_count": null,
   "metadata": {},
   "outputs": [],
   "source": []
  }
 ],
 "metadata": {
  "kernelspec": {
   "display_name": "PyTorch",
   "language": "python",
   "name": "pytorch"
  },
  "language_info": {
   "codemirror_mode": {
    "name": "ipython",
    "version": 3
   },
   "file_extension": ".py",
   "mimetype": "text/x-python",
   "name": "python",
   "nbconvert_exporter": "python",
   "pygments_lexer": "ipython3",
   "version": "3.9.2"
  }
 },
 "nbformat": 4,
 "nbformat_minor": 4
}
